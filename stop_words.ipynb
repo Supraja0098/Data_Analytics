{
 "cells": [
  {
   "cell_type": "code",
   "execution_count": 17,
   "id": "80977b58",
   "metadata": {},
   "outputs": [],
   "source": [
    "stopwords_data = \"\"\"\n",
    "New York Institute of Technology is located near the columbus circle which is located on the 1855 Broadway but my class is located on the 16w 61st street ,\n",
    "I always take the subway from World trade center to the 59th street ,\n",
    "I love the gelato in the Venchi and if at all I get hungry after my class I go to the Amor pizza cafe which is located on 370w 58th street\n",
    ",Totally love their Pizza !\n",
    "\"\"\"\n",
    "\n",
    "stopwords_data_file = \"stopwords_data.txt\"\n",
    "\n",
    "with open(stopwords_data_file, \"w\") as file:\n",
    "    file.write(stopwords_data)\n"
   ]
  },
  {
   "cell_type": "code",
   "execution_count": 20,
   "id": "4a56242c",
   "metadata": {},
   "outputs": [
    {
     "name": "stdout",
     "output_type": "stream",
     "text": [
      "{'!': 1, ',': 2, ',totally': 1, '16w': 1, '1855': 1, '370w': 1, '58th': 1, '59th': 1, '61st': 1, 'after': 1, 'all': 1, 'always': 1, 'amor': 1, 'broadway': 1, 'but': 1, 'cafe': 1, 'center': 1, 'circle': 1, 'class': 2, 'columbus': 1, 'gelato': 1, 'get': 1, 'go': 1, 'hungry': 1, 'institute': 1, 'located': 4, 'love': 2, 'near': 1, 'new': 1, 'pizza': 2, 'street': 3, 'subway': 1, 'take': 1, 'technology': 1, 'their': 1, 'trade': 1, 'venchi': 1, 'which': 2, 'world': 1, 'york': 1}\n"
     ]
    }
   ],
   "source": [
    "# mapper\n",
    "def mapper(input_data):\n",
    "    stop_words = set([\n",
    "        \"a\", \"an\", \"the\", \"in\", \"on\", \"of\", \"and\", \"or\", \"to\", \"for\", \"with\", \"i\",\"my\", \"if\",\n",
    "        \"as\", \"by\", \"at\", \"from\", \"up\", \"down\", \"over\", \"under\", \"above\", \"below\" ,\"is\"\n",
    "    ]) \n",
    "    word_counts = []\n",
    "    for line in input_data:\n",
    "        words = line.strip().split()\n",
    "        for word in words:\n",
    "            if word.lower() not in stop_words:\n",
    "                word_counts.append((word.lower(), 1))\n",
    "    return word_counts\n",
    "\n",
    "# reducer\n",
    "def reducer(intermediate_pairs):\n",
    "    word_count_dict = {}\n",
    "    for key, value in intermediate_pairs:\n",
    "        word_count_dict[key] = word_count_dict.get(key, 0) + value\n",
    "    return word_count_dict\n",
    "\n",
    "input_file = \"stopwords_data.txt\"\n",
    "with open(input_file, \"r\") as file:\n",
    "    input_data = file.readlines()\n",
    "\n",
    "intermediate_pairs = mapper(input_data)\n",
    "\n",
    "sorted_pairs = sorted(intermediate_pairs)\n",
    "\n",
    "final_output = reducer(sorted_pairs)\n",
    "\n",
    "stopwords_output_file = \"stopwords_output_data.txt\"\n",
    "with open(stopwords_output_file, \"w\") as file:\n",
    "    for word, count in final_output.items():\n",
    "        file.write(f\"{word}\\t{count}\\n\")\n",
    "\n",
    "print(final_output)\n"
   ]
  },
  {
   "cell_type": "code",
   "execution_count": 14,
   "id": "b0dd1c2c",
   "metadata": {},
   "outputs": [],
   "source": []
  },
  {
   "cell_type": "code",
   "execution_count": null,
   "id": "e84b0e51",
   "metadata": {},
   "outputs": [],
   "source": []
  }
 ],
 "metadata": {
  "kernelspec": {
   "display_name": "Python 3 (ipykernel)",
   "language": "python",
   "name": "python3"
  },
  "language_info": {
   "codemirror_mode": {
    "name": "ipython",
    "version": 3
   },
   "file_extension": ".py",
   "mimetype": "text/x-python",
   "name": "python",
   "nbconvert_exporter": "python",
   "pygments_lexer": "ipython3",
   "version": "3.9.12"
  }
 },
 "nbformat": 4,
 "nbformat_minor": 5
}
