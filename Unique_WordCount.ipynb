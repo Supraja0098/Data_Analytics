{
 "cells": [
  {
   "cell_type": "code",
   "execution_count": 66,
   "id": "e940cd72",
   "metadata": {},
   "outputs": [],
   "source": [
    "import sys"
   ]
  },
  {
   "cell_type": "code",
   "execution_count": 69,
   "id": "69b795ff",
   "metadata": {},
   "outputs": [],
   "source": [
    "!echo \"A long time ago in a galaxy far far away their were far too many stars in the galaxy\" >testfile.txt"
   ]
  },
  {
   "cell_type": "code",
   "execution_count": 70,
   "id": "5370f652",
   "metadata": {},
   "outputs": [
    {
     "name": "stdout",
     "output_type": "stream",
     "text": [
      "ASU-web-scraper.ipynb    courses_taught.txt       testfile.txt\r\n",
      "README.md                profile_urls.txt         wordcount_mapper.py\r\n",
      "Unique_WordCount.ipynb   reducer_output.txt       wordcount_reducer.py\r\n",
      "bios.txt                 sorted_mapper_output.txt ─dia_prob_solution\r\n"
     ]
    }
   ],
   "source": [
    "!ls"
   ]
  },
  {
   "cell_type": "code",
   "execution_count": 71,
   "id": "71124794",
   "metadata": {},
   "outputs": [],
   "source": [
    "#mapper"
   ]
  },
  {
   "cell_type": "code",
   "execution_count": 72,
   "id": "865aa604",
   "metadata": {},
   "outputs": [
    {
     "name": "stdout",
     "output_type": "stream",
     "text": [
      "Overwriting wordcount_mapper.py\n"
     ]
    }
   ],
   "source": [
    "%%writefile wordcount_mapper.py\n",
    "from operator import itemgetter\n",
    "import sys\n",
    "\n",
    "for line in sys.stdin:\n",
    "    line = line.strip()\n",
    "    words = line.split()\n",
    "    for word in words:\n",
    "        print('%s\\t%s' % (word, 1))"
   ]
  },
  {
   "cell_type": "code",
   "execution_count": 73,
   "id": "cb2e98a0",
   "metadata": {},
   "outputs": [],
   "source": [
    "%pycat wordcount_mapper.py"
   ]
  },
  {
   "cell_type": "code",
   "execution_count": 74,
   "id": "5a45da19",
   "metadata": {},
   "outputs": [],
   "source": [
    "#reducer"
   ]
  },
  {
   "cell_type": "code",
   "execution_count": 75,
   "id": "90211ce4",
   "metadata": {},
   "outputs": [
    {
     "name": "stdout",
     "output_type": "stream",
     "text": [
      "Overwriting wordcount_reducer.py\n"
     ]
    }
   ],
   "source": [
    "%%writefile wordcount_reducer.py\n",
    "from operator import itemgetter\n",
    "import sys\n",
    "\n",
    "current_word = None\n",
    "current_count = 0\n",
    "\n",
    "for line in sys.stdin:\n",
    "    line = line.strip()\n",
    "    word, count = line.split('\\t')\n",
    "\n",
    "    try:\n",
    "        count = int(count)\n",
    "    except ValueError:\n",
    "        continue\n",
    "\n",
    "    if current_word == word:\n",
    "        current_count += count\n",
    "    else:\n",
    "        if current_word is not None:\n",
    "            print('%s\\t%s' % (current_word, current_count))\n",
    "        current_count = count\n",
    "        current_word = word\n",
    "\n",
    "if current_word is not None:\n",
    "    print('%s\\t%s' % (current_word, current_count))\n"
   ]
  },
  {
   "cell_type": "code",
   "execution_count": 76,
   "id": "77baa559",
   "metadata": {},
   "outputs": [],
   "source": [
    "%pycat wordcount_reducer.py"
   ]
  },
  {
   "cell_type": "code",
   "execution_count": null,
   "id": "07f11c53",
   "metadata": {},
   "outputs": [],
   "source": [
    "#TO CHECK THE OUTPUT RUN THE FOLLING COMANDS ON YOUR TERMINAL\n",
    "#cat testfile.txt | python wordcount_mapper.py | sort\n",
    "#cat testfile.txt | python wordcount_mapper.py | sort | python wordcount_reducer.py\n"
   ]
  }
 ],
 "metadata": {
  "kernelspec": {
   "display_name": "Python 3 (ipykernel)",
   "language": "python",
   "name": "python3"
  },
  "language_info": {
   "codemirror_mode": {
    "name": "ipython",
    "version": 3
   },
   "file_extension": ".py",
   "mimetype": "text/x-python",
   "name": "python",
   "nbconvert_exporter": "python",
   "pygments_lexer": "ipython3",
   "version": "3.9.12"
  }
 },
 "nbformat": 4,
 "nbformat_minor": 5
}
